{
 "cells": [
  {
   "cell_type": "code",
   "execution_count": 1,
   "metadata": {},
   "outputs": [
    {
     "name": "stderr",
     "output_type": "stream",
     "text": [
      "/home/codespace/.python/current/lib/python3.10/site-packages/pinecone/data/index.py:1: TqdmWarning: IProgress not found. Please update jupyter and ipywidgets. See https://ipywidgets.readthedocs.io/en/stable/user_install.html\n",
      "  from tqdm.autonotebook import tqdm\n"
     ]
    }
   ],
   "source": [
    "import json\n",
    "import os\n",
    "from dotenv import load_dotenv\n",
    "from pinecone import Pinecone, ServerlessSpec\n",
    "import pandas as pd\n",
    "import matplotlib as plt\n",
    "import seaborn as sns\n",
    "from langchain_community.embeddings import HuggingFaceBgeEmbeddings\n"
   ]
  },
  {
   "cell_type": "markdown",
   "metadata": {},
   "source": [
    "# Create questions"
   ]
  },
  {
   "cell_type": "code",
   "execution_count": 2,
   "metadata": {},
   "outputs": [
    {
     "data": {
      "text/html": [
       "<div>\n",
       "<style scoped>\n",
       "    .dataframe tbody tr th:only-of-type {\n",
       "        vertical-align: middle;\n",
       "    }\n",
       "\n",
       "    .dataframe tbody tr th {\n",
       "        vertical-align: top;\n",
       "    }\n",
       "\n",
       "    .dataframe thead th {\n",
       "        text-align: right;\n",
       "    }\n",
       "</style>\n",
       "<table border=\"1\" class=\"dataframe\">\n",
       "  <thead>\n",
       "    <tr style=\"text-align: right;\">\n",
       "      <th></th>\n",
       "      <th>id</th>\n",
       "      <th>question</th>\n",
       "      <th>answer chunk</th>\n",
       "    </tr>\n",
       "  </thead>\n",
       "  <tbody>\n",
       "    <tr>\n",
       "      <th>0</th>\n",
       "      <td>2329bf02-8d29-4b0d-b16b-c12f50314931</td>\n",
       "      <td>What is the function of the RasterPaletteResol...</td>\n",
       "      <td>Name: RasterPaletteResolver Category: Rasters ...</td>\n",
       "    </tr>\n",
       "    <tr>\n",
       "      <th>1</th>\n",
       "      <td>fea7a481-edcb-4c3d-9fe8-840ba25c5cb0</td>\n",
       "      <td>What does the RasterGCPExtractor transformer do?</td>\n",
       "      <td>Name: RasterGCPExtractor Category: Coordinates...</td>\n",
       "    </tr>\n",
       "    <tr>\n",
       "      <th>2</th>\n",
       "      <td>dd898564-341b-45f5-9619-ee19505ad54e</td>\n",
       "      <td>Describe the purpose of the RasterMosaicker tr...</td>\n",
       "      <td>Name: RasterMosaicker Category: Filters and Jo...</td>\n",
       "    </tr>\n",
       "    <tr>\n",
       "      <th>3</th>\n",
       "      <td>92463f76-c130-40cd-9a4a-37a71374fd3d</td>\n",
       "      <td>What does the RasterCellValueReplacer transfor...</td>\n",
       "      <td>Name: RasterCellValueReplacer Category: Raster...</td>\n",
       "    </tr>\n",
       "    <tr>\n",
       "      <th>4</th>\n",
       "      <td>db039908-7b39-4ed0-a7de-f62abdcb9400</td>\n",
       "      <td>Explain the function of the Emailer transformer.</td>\n",
       "      <td>Name: Emailer Category: Integrations, Web Desc...</td>\n",
       "    </tr>\n",
       "  </tbody>\n",
       "</table>\n",
       "</div>"
      ],
      "text/plain": [
       "                                     id  \\\n",
       "0  2329bf02-8d29-4b0d-b16b-c12f50314931   \n",
       "1  fea7a481-edcb-4c3d-9fe8-840ba25c5cb0   \n",
       "2  dd898564-341b-45f5-9619-ee19505ad54e   \n",
       "3  92463f76-c130-40cd-9a4a-37a71374fd3d   \n",
       "4  db039908-7b39-4ed0-a7de-f62abdcb9400   \n",
       "\n",
       "                                            question  \\\n",
       "0  What is the function of the RasterPaletteResol...   \n",
       "1   What does the RasterGCPExtractor transformer do?   \n",
       "2  Describe the purpose of the RasterMosaicker tr...   \n",
       "3  What does the RasterCellValueReplacer transfor...   \n",
       "4   Explain the function of the Emailer transformer.   \n",
       "\n",
       "                                        answer chunk  \n",
       "0  Name: RasterPaletteResolver Category: Rasters ...  \n",
       "1  Name: RasterGCPExtractor Category: Coordinates...  \n",
       "2  Name: RasterMosaicker Category: Filters and Jo...  \n",
       "3  Name: RasterCellValueReplacer Category: Raster...  \n",
       "4  Name: Emailer Category: Integrations, Web Desc...  "
      ]
     },
     "execution_count": 2,
     "metadata": {},
     "output_type": "execute_result"
    }
   ],
   "source": [
    "data = pd.read_csv(\"output_512_without_vec.csv\", sep=\";\")\n",
    "questions = pd.read_csv(\"questions-512.csv\", sep=\";\")\n",
    "questions.head(5)"
   ]
  },
  {
   "cell_type": "markdown",
   "metadata": {},
   "source": [
    "# Read data"
   ]
  },
  {
   "cell_type": "code",
   "execution_count": 3,
   "metadata": {},
   "outputs": [],
   "source": [
    "# Load environment variables from .env file\n",
    "load_dotenv()\n",
    "pinecone_api_key = os.getenv(\"API_KEY\")\n",
    "\n",
    "# Initialize Pinecone\n",
    "pc = Pinecone(api_key=pinecone_api_key)\n",
    "index_name = \"rag-example-512\"\n",
    "\n",
    "pinecone_index = pc.Index(index_name)"
   ]
  },
  {
   "cell_type": "markdown",
   "metadata": {},
   "source": [
    "# load model"
   ]
  },
  {
   "cell_type": "code",
   "execution_count": 4,
   "metadata": {},
   "outputs": [
    {
     "name": "stderr",
     "output_type": "stream",
     "text": [
      "/home/codespace/.python/current/lib/python3.10/site-packages/huggingface_hub/file_download.py:1132: FutureWarning: `resume_download` is deprecated and will be removed in version 1.0.0. Downloads always resume when possible. If you want to force a new download, use `force_download=True`.\n",
      "  warnings.warn(\n"
     ]
    }
   ],
   "source": [
    "model_name = \"BAAI/bge-m3\"\n",
    "model_kwargs = {\"device\": \"cpu\"}\n",
    "encode_kwargs = {\"normalize_embeddings\": True}\n",
    "hf = HuggingFaceBgeEmbeddings(\n",
    "    model_name=model_name,\n",
    "    model_kwargs=model_kwargs,\n",
    "    encode_kwargs=encode_kwargs,\n",
    "    query_instruction = \"search_query:\",\n",
    "    embed_instruction = \"search_document:\"\n",
    ")"
   ]
  },
  {
   "cell_type": "code",
   "execution_count": 5,
   "metadata": {},
   "outputs": [
    {
     "name": "stdout",
     "output_type": "stream",
     "text": [
      "What is the function of the RasterPaletteResolver transformer?\n"
     ]
    }
   ],
   "source": [
    "for index, row in questions.head(1).iterrows():\n",
    "    print(row.question)"
   ]
  },
  {
   "cell_type": "markdown",
   "metadata": {},
   "source": [
    "# Query Pinecone"
   ]
  },
  {
   "cell_type": "code",
   "execution_count": 14,
   "metadata": {},
   "outputs": [
    {
     "name": "stdout",
     "output_type": "stream",
     "text": [
      "0.4\n"
     ]
    }
   ],
   "source": [
    "# embed question\n",
    "hit = 0\n",
    "for index, row in questions.iterrows():\n",
    "    vector = hf.embed_query(row[\"question\"])\n",
    "    answers = pinecone_index.query(\n",
    "        namespace=\"\",\n",
    "        vector=vector,\n",
    "        top_k=3,\n",
    "        include_values=True\n",
    "    )\n",
    "    for match in answers[\"matches\"]:\n",
    "    # Filter the questions dataframe by the match id\n",
    "        filtered_questions = questions[questions[\"id\"] == match[\"id\"]]\n",
    "        \n",
    "        # Check if the dataframe is not empty\n",
    "        if not filtered_questions.empty:\n",
    "            hit += 1\n",
    "    \n",
    "    \n",
    "print(hit/len(questions))"
   ]
  },
  {
   "cell_type": "markdown",
   "metadata": {},
   "source": [
    "# Evaluate the RAG"
   ]
  },
  {
   "cell_type": "code",
   "execution_count": 7,
   "metadata": {},
   "outputs": [
    {
     "name": "stderr",
     "output_type": "stream",
     "text": [
      "/home/codespace/.python/current/lib/python3.10/site-packages/huggingface_hub/file_download.py:1132: FutureWarning: `resume_download` is deprecated and will be removed in version 1.0.0. Downloads always resume when possible. If you want to force a new download, use `force_download=True`.\n",
      "  warnings.warn(\n"
     ]
    }
   ],
   "source": [
    "model_name = \"BAAI/bge-m3\"\n",
    "model_kwargs = {\"device\": \"cpu\"}\n",
    "encode_kwargs = {\"normalize_embeddings\": True}\n",
    "hf = HuggingFaceBgeEmbeddings(\n",
    "    model_name=model_name,\n",
    "    model_kwargs=model_kwargs,\n",
    "    encode_kwargs=encode_kwargs,\n",
    "    query_instruction = \"search_query:\",\n",
    "    embed_instruction = \"search_document:\"\n",
    ")\n",
    "\n",
    "# Load environment variables from .env file\n",
    "load_dotenv()\n",
    "pinecone_api_key = os.getenv(\"API_KEY\")\n",
    "\n",
    "# Initialize Pinecone\n",
    "pc = Pinecone(api_key=pinecone_api_key)\n",
    "\n",
    "rag_names = {\n",
    "    \"rag-example-512\": {\n",
    "        \"question_key\": \"questions/questions-512.csv\",\n",
    "        \"output\": \"tokens/output_512_without_vec.csv\",\n",
    "        \"pinecone_database\": \"rag-example-512\"\n",
    "    },\n",
    "    \"rag-example-1024\": {\n",
    "        \"question_key\": \"questions/questions-1024.csv\",\n",
    "        \"output\": \"tokens/output_1024_without_vec.csv\",\n",
    "        \"pinecone_database\": \"rag-example-1024\"\n",
    "    },\n",
    "    \"rag-example-2048\": {\n",
    "        \"question_key\": \"questions/questions-2048.csv\",\n",
    "        \"output\": \"tokens/output_2048_without_vec.csv\",\n",
    "        \"pinecone_database\": \"rag-example-2048\"\n",
    "    }\n",
    "}"
   ]
  },
  {
   "cell_type": "code",
   "execution_count": 42,
   "metadata": {},
   "outputs": [
    {
     "name": "stdout",
     "output_type": "stream",
     "text": [
      "HIT! number: 1 in rag-example-512 with id: Series([], Name: id, dtype: object) and question: What is the function of the RasterPaletteResolver transformer?\n",
      "HIT! number: 2 in rag-example-512 with id: Series([], Name: id, dtype: object) and question: What does the RasterGCPExtractor transformer do?\n",
      "HIT! number: 3 in rag-example-512 with id: Series([], Name: id, dtype: object) and question: Describe the purpose of the RasterMosaicker transformer.\n",
      "HIT! number: 4 in rag-example-512 with id: 3    92463f76-c130-40cd-9a4a-37a71374fd3d\n",
      "Name: id, dtype: object and question: What does the RasterCellValueReplacer transformer do?\n",
      "HIT! number: 5 in rag-example-512 with id: Series([], Name: id, dtype: object) and question: Explain the function of the Emailer transformer.\n",
      "HIT! number: 1 in rag-example-1024 with id: Series([], Name: id, dtype: object) and question: What happens to the cell values when a palette is removed using the RasterPaletteRemover?\n",
      "HIT! number: 2 in rag-example-1024 with id: Series([], Name: id, dtype: object) and question: What must be done to lines for successful generation of a network topology in FME using the NetworkTopologyCalculator?\n",
      "HIT! number: 3 in rag-example-1024 with id: 8    0e8b1132-6f0d-410e-9966-4e3a7dac7c6a\n",
      "9    0e8b1132-6f0d-410e-9966-4e3a7dac7c6a\n",
      "Name: id, dtype: object and question: How does the FeatureMerger transformer work?\n",
      "HIT! number: 4 in rag-example-1024 with id: Series([], Name: id, dtype: object) and question: What is the purpose of the ReframeReprojector transformer?\n",
      "HIT! number: 5 in rag-example-1024 with id: Series([], Name: id, dtype: object) and question: How can you define values in the FeatureJoiner transformer?\n",
      "HIT! number: 6 in rag-example-1024 with id: Series([], Name: id, dtype: object) and question: What does the BinaryDecoder transformer do?\n",
      "HIT! number: 7 in rag-example-1024 with id: Series([], Name: id, dtype: object) and question: How does the NeighborPairFinder transformer find and handle closest features?\n",
      "HIT! number: 8 in rag-example-1024 with id: Series([], Name: id, dtype: object) and question: What features does the ArcPropertySetter transformer modify?\n",
      "HIT! number: 9 in rag-example-1024 with id: Series([], Name: id, dtype: object) and question: What types of joins does the FeatureJoiner support?\n",
      "HIT! number: 10 in rag-example-1024 with id: Series([], Name: id, dtype: object) and question: What happens to unmatched features in a Full join using the FeatureJoiner?\n",
      "HIT! number: 1 in rag-example-2048 with id: Series([], Name: id, dtype: object) and question: What is the CircularityCalculator used for?\n",
      "HIT! number: 2 in rag-example-2048 with id: 9    3a6c9296-4e60-459a-8008-fd77d2c2a58e\n",
      "Name: id, dtype: object and question: What are the related transformers for LocalCoordinateSystemSetter?\n",
      "HIT! number: 3 in rag-example-2048 with id: Series([], Name: id, dtype: object) and question: What is the primary function of the Geocoder transformer?\n",
      "HIT! number: 4 in rag-example-2048 with id: Series([], Name: id, dtype: object) and question: What does the TopologyBuilder transformer do?\n",
      "HIT! number: 5 in rag-example-2048 with id: Series([], Name: id, dtype: object) and question: What are the related transformers for the RasterBandOrderer?\n",
      "HIT! number: 6 in rag-example-2048 with id: Series([], Name: id, dtype: object) and question: What attributes are available when creating or updating a Trello card using TrelloConnector?\n",
      "HIT! number: 7 in rag-example-2048 with id: Series([], Name: id, dtype: object) and question: What are the related transformers for the RasterBandMinMaxExtractor?\n",
      "HIT! number: 8 in rag-example-2048 with id: Series([], Name: id, dtype: object) and question: How can you construct text strings in XMLXQueryUpdater?\n",
      "HIT! number: 9 in rag-example-2048 with id: Series([], Name: id, dtype: object) and question: How does the ListSorter transformer operate?\n",
      "HIT! number: 10 in rag-example-2048 with id: Series([], Name: id, dtype: object) and question: How does the LocalCoordinateSystemSetter transformer handle reprojections?\n"
     ]
    }
   ],
   "source": [
    "for key in rag_names.keys():\n",
    "    questions = pd.read_csv(rag_names[key][\"question_key\"], sep=\";\")\n",
    "    data = pd.read_csv(rag_names[key][\"output\"], sep=\";\")\n",
    "    pinecone_index = pc.Index(rag_names[key][\"pinecone_database\"])\n",
    "\n",
    "    # evaluate\n",
    "    hit = 0\n",
    "    for index, row in questions.iterrows():\n",
    "        vector = hf.embed_query(row[\"question\"])\n",
    "        answers = pinecone_index.query(\n",
    "            namespace=\"\",\n",
    "            vector=vector,\n",
    "            top_k=3,\n",
    "            include_values=True\n",
    "        )\n",
    "        \n",
    "        ids_set = set()\n",
    "        for match in answers[\"matches\"]:\n",
    "            ids_set.add(match[\"id\"])\n",
    "        \n",
    "        if row[\"id\"] in ids_set:\n",
    "            hit += 1\n",
    "            #print(f'HIT! number: {hit} in {rag_names[key][\"pinecone_database\"]} with id: {questions[questions[\"id\"] == match[\"id\"]].id} and question: {row[\"question\"]}')\n",
    "    \n",
    "    rag_names[key][\"hit\"] = hit"
   ]
  },
  {
   "cell_type": "code",
   "execution_count": 43,
   "metadata": {},
   "outputs": [
    {
     "name": "stdout",
     "output_type": "stream",
     "text": [
      "5\n",
      "10\n",
      "10\n"
     ]
    }
   ],
   "source": [
    "for key in rag_names.keys():\n",
    "    print(rag_names[key][\"hit\"])"
   ]
  },
  {
   "cell_type": "markdown",
   "metadata": {},
   "source": [
    "# Manually evaluate"
   ]
  },
  {
   "cell_type": "code",
   "execution_count": 15,
   "metadata": {},
   "outputs": [
    {
     "name": "stdout",
     "output_type": "stream",
     "text": [
      "Series([], Name: text, dtype: object)\n",
      "4    Name: Emailer\\nCategory: Integrations, Web\\nDe...\n",
      "Name: text, dtype: object\n",
      "31    Name: HTMLToXHTMLConverter\\nCategory: \\nDescri...\n",
      "Name: text, dtype: object\n",
      "107    Name: Emailer\\nCategory: Integrations, Web\\nDe...\n",
      "Name: text, dtype: object\n",
      "185    Name: Emailer\\nCategory: Integrations, Web\\nDe...\n",
      "Name: text, dtype: object\n",
      "44    Name: Emailer\\nCategory: Integrations, Web\\nDe...\n",
      "Name: text, dtype: object\n",
      "182    Name: HTMLExtractor\\nCategory: Integrations, S...\n",
      "Name: text, dtype: object\n",
      "243    Name: AttributeEncoder\\nCategory: Strings, Web...\n",
      "Name: text, dtype: object\n",
      "82    Name: HTMLExtractor\\nCategory: Integrations, S...\n",
      "Name: text, dtype: object\n"
     ]
    }
   ],
   "source": [
    "question = \"I would like to send an Email with an HTML in the attachement, is there a transformer to send emails?\"\n",
    "for key in rag_names.keys():\n",
    "    df_questions = pd.read_csv(rag_names[key][\"question_key\"], sep=\";\")\n",
    "    df_data = pd.read_csv(rag_names[key][\"output\"], sep=\";\")\n",
    "    pinecone_index = pc.Index(rag_names[key][\"pinecone_database\"])\n",
    "    \n",
    "    vector = hf.embed_query(question)\n",
    "    answers = pinecone_index.query(\n",
    "        namespace=\"\",\n",
    "        vector=vector,\n",
    "        top_k=3,\n",
    "        include_values=True\n",
    "    )\n",
    "    ids_set = set()\n",
    "    for match in answers[\"matches\"]:\n",
    "        #ids_set.add(match[\"id\"])\n",
    "        print(df_data[df_data[\"id\"] == match[\"id\"]].text.iloc(0))\n",
    "    \n",
    "    \"\"\"if row[\"id\"] in ids_set:\n",
    "        hit += 1\"\"\"\n",
    "    #print(answers)"
   ]
  },
  {
   "cell_type": "code",
   "execution_count": null,
   "metadata": {},
   "outputs": [],
   "source": []
  }
 ],
 "metadata": {
  "kernelspec": {
   "display_name": "Python 3",
   "language": "python",
   "name": "python3"
  },
  "language_info": {
   "codemirror_mode": {
    "name": "ipython",
    "version": 3
   },
   "file_extension": ".py",
   "mimetype": "text/x-python",
   "name": "python",
   "nbconvert_exporter": "python",
   "pygments_lexer": "ipython3",
   "version": "3.10.13"
  }
 },
 "nbformat": 4,
 "nbformat_minor": 2
}
